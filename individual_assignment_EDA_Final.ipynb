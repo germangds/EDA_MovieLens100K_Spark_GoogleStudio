{
 "cells": [
  {
   "cell_type": "markdown",
   "metadata": {},
   "source": [
    "# MovieLens Exploratory Data Analysis | Germán Germán De Souza MBD"
   ]
  },
  {
   "cell_type": "markdown",
   "metadata": {},
   "source": [
    "# Pyspark environment setup"
   ]
  },
  {
   "cell_type": "code",
   "execution_count": 109,
   "metadata": {},
   "outputs": [],
   "source": [
    "#Maybe you will need to install tabulate and restart the kernell before running all cells \"pip install tabulate\"\n",
    "import findspark\n",
    "findspark.init()\n",
    "\n",
    "from pyspark.context import SparkContext\n",
    "from pyspark.sql.session import SparkSession\n",
    "from pyspark.sql.types import *\n",
    "from IPython.display import display, Markdown\n",
    "from pyspark.sql.functions import *\n",
    "from pyspark.sql.window import Window\n",
    "\n",
    "import seaborn as sns\n",
    "import matplotlib.pyplot as plt\n",
    "import warnings\n",
    "warnings.simplefilter(action='ignore', category=FutureWarning)\n",
    "\n",
    "sc = SparkContext.getOrCreate()\n",
    "spark = SparkSession(sc)"
   ]
  },
  {
   "cell_type": "markdown",
   "metadata": {},
   "source": [
    "# Data sources, schema definition & assignation of objects"
   ]
  },
  {
   "cell_type": "markdown",
   "metadata": {},
   "source": [
    "**In this section we will also provide the size of our 3 datasets.**"
   ]
  },
  {
   "cell_type": "code",
   "execution_count": 108,
   "metadata": {},
   "outputs": [
    {
     "data": {
      "text/markdown": [
       "The dataframes which we will analyse are **'dfratings','dfusers' and 'dfmovies'**. These datasets have around **1000209 ratings** from **6040 users** and **3883 movies**."
      ],
      "text/plain": [
       "<IPython.core.display.Markdown object>"
      ]
     },
     "metadata": {},
     "output_type": "display_data"
    },
    {
     "data": {
      "text/markdown": [
       "Before conducting our Exploratory analysis, we have to make sure that our datasets have the **right structure type for each of the columns** and that there are **no null values**."
      ],
      "text/plain": [
       "<IPython.core.display.Markdown object>"
      ]
     },
     "metadata": {},
     "output_type": "display_data"
    }
   ],
   "source": [
    "# Assigning appropiate schema for each column within different csv files\n",
    "dfmoviesSchema = StructType(\\\n",
    "                     [StructField(\"MovieID\",IntegerType(),True),\\\n",
    "                      StructField(\"Title\",StringType(),True),\\\n",
    "                      StructField(\"Genres\",StringType(),True)])\n",
    "\n",
    "dfratingsSchema = StructType(\\\n",
    "                     [StructField(\"UserID\",IntegerType(),True),\\\n",
    "                      StructField(\"MovieID\",IntegerType(),True),\\\n",
    "                      StructField(\"Rating\",IntegerType(),True),\\\n",
    "                      StructField(\"Timestamp\",TimestampType(),True)])\n",
    "\n",
    "dfusersSchema = StructType(\\\n",
    "                     [StructField(\"UserID\",IntegerType(),True),\\\n",
    "                      StructField(\"Gender\",StringType(),True),\\\n",
    "                      StructField(\"Age\",StringType(),True),\\\n",
    "                      StructField(\"Occupation\",StringType(),True),\\\n",
    "                      StructField(\"Zip-code\",StringType(),True)])\n",
    "\n",
    "\n",
    "# Importing all files to the environment as objects dfmovies, dfratings, dfusers and applying the corresponding schema\n",
    "# For each Spark object\n",
    "dfmovies = spark.read.schema(dfmoviesSchema) \\\n",
    "                 .option(\"inferSchema\", \"true\") \\\n",
    "                 .option(\"header\", \"true\") \\\n",
    "                 .option(\"sep\",\";\") \\\n",
    "                 .csv(\"movies.csv\")\n",
    "\n",
    "dfratings = spark.read.schema(dfratingsSchema) \\\n",
    "                 .option(\"inferSchema\", \"true\") \\\n",
    "                 .option(\"header\", \"true\") \\\n",
    "                 .option(\"sep\",\",\") \\\n",
    "                 .csv(\"ratings.csv\")\n",
    "\n",
    "dfusers = spark.read.schema(dfusersSchema) \\\n",
    "                 .option(\"inferSchema\", \"true\") \\\n",
    "                 .option(\"header\", \"true\") \\\n",
    "                 .option(\"sep\",\";\") \\\n",
    "                 .csv(\"users.csv\")\n",
    "display(Markdown(\"The dataframes which we will analyse are **'dfratings','dfusers' and 'dfmovies'**. These datasets have around **%d ratings** from **%d users** and **%d movies**.\" % (dfratings.count(),dfusers.count(),dfmovies.count())))\n",
    "display(Markdown(\"Before conducting our Exploratory analysis, we have to make sure that our datasets have the **right structure type for each of the columns** and that there are **no null values**.\"))"
   ]
  },
  {
   "cell_type": "markdown",
   "metadata": {},
   "source": [
    "# Dataset metadata analysis"
   ]
  },
  {
   "cell_type": "markdown",
   "metadata": {},
   "source": [
    "## A. Displaying Schema (Preliminary check on if our dataframes have the appropiate schema)"
   ]
  },
  {
   "cell_type": "code",
   "execution_count": 110,
   "metadata": {},
   "outputs": [
    {
     "name": "stdout",
     "output_type": "stream",
     "text": [
      "root\n",
      " |-- UserID: integer (nullable = true)\n",
      " |-- MovieID: integer (nullable = true)\n",
      " |-- Rating: integer (nullable = true)\n",
      " |-- Timestamp: timestamp (nullable = true)\n",
      "\n",
      "root\n",
      " |-- UserID: integer (nullable = true)\n",
      " |-- Gender: string (nullable = true)\n",
      " |-- Age: string (nullable = true)\n",
      " |-- Occupation: string (nullable = true)\n",
      " |-- Zip-code: string (nullable = true)\n",
      "\n",
      "root\n",
      " |-- MovieID: integer (nullable = true)\n",
      " |-- Title: string (nullable = true)\n",
      " |-- Genres: string (nullable = true)\n",
      "\n"
     ]
    }
   ],
   "source": [
    "# Checking if the schemas which we have configured are appropiately designated\n",
    "dfratings.printSchema()\n",
    "dfusers.printSchema()\n",
    "dfmovies.printSchema()"
   ]
  },
  {
   "cell_type": "markdown",
   "metadata": {},
   "source": [
    "**As we can see, the dataframes that we are going to work with the schema has been properly assigned for each dataframe.**\n",
    "\n",
    "## B. Data entities, metrics and dimensions\n",
    "\n",
    "In my dataset, I have identified the following elements:\n",
    "\n",
    "* **Entities:** Movie Ratings (dimension), Platform Users (dimension), Platform Movies (dimension)\n",
    "* **Metrics:** Ratings (average ratings), Timestamp (segmented by day, month and year), Occupation (3 different categories), Genres (already segmented in its corresponding column), Age (already segmented in its corresponding column).\n",
    "* **Dimensions:** Movie Title, Gender, Zip-code\n",
    "\n",
    "## C. Column categorization\n",
    "\n",
    "Fortunately, **the datasets have been already categorised in their corresponding family** and **therefore there is no need of stablishing this.**\n",
    "\n",
    "## D. Basic profiling based on the 3 different spark objects\n"
   ]
  },
  {
   "cell_type": "markdown",
   "metadata": {},
   "source": [
    "### (D-1) Checking if all the fields in the different spark objects don't have NULL's"
   ]
  },
  {
   "cell_type": "code",
   "execution_count": 111,
   "metadata": {},
   "outputs": [
    {
     "data": {
      "text/markdown": [
       "**Pre-check before EDA**"
      ],
      "text/plain": [
       "<IPython.core.display.Markdown object>"
      ]
     },
     "metadata": {},
     "output_type": "display_data"
    },
    {
     "name": "stdout",
     "output_type": "stream",
     "text": [
      "Ratings Dataframe\n",
      "+------+-------+------+---------+\n",
      "|UserID|MovieID|Rating|Timestamp|\n",
      "+------+-------+------+---------+\n",
      "|     0|      0|     0|        0|\n",
      "+------+-------+------+---------+\n",
      "\n",
      "Movies Dataframe\n",
      "+-------+-----+------+\n",
      "|MovieID|Title|Genres|\n",
      "+-------+-----+------+\n",
      "|      0|    0|     1|\n",
      "+-------+-----+------+\n",
      "\n",
      "Users Dataframe\n",
      "+------+------+---+----------+--------+\n",
      "|UserID|Gender|Age|Occupation|Zip-code|\n",
      "+------+------+---+----------+--------+\n",
      "|     0|     0|  0|         0|       0|\n",
      "+------+------+---+----------+--------+\n",
      "\n"
     ]
    },
    {
     "data": {
      "text/markdown": [
       "**As we can see in our Movies Dataframe, there is only one movie which doesnt have assigned genres. It is therefore that we will identify that MovieID so we can change the null for its corresponding genre.**"
      ],
      "text/plain": [
       "<IPython.core.display.Markdown object>"
      ]
     },
     "metadata": {},
     "output_type": "display_data"
    },
    {
     "name": "stdout",
     "output_type": "stream",
     "text": [
      "+-------+--------------------+------+\n",
      "|MovieID|               Title|Genres|\n",
      "+-------+--------------------+------+\n",
      "|   3845|And God Created W...|  null|\n",
      "+-------+--------------------+------+\n",
      "\n"
     ]
    },
    {
     "data": {
      "text/markdown": [
       "**Movie 3845 labeled as 'And God Created Woman' is categorised as a 'Drama | Romance' genre. We will substitute this categorisation from the previous one.**"
      ],
      "text/plain": [
       "<IPython.core.display.Markdown object>"
      ]
     },
     "metadata": {},
     "output_type": "display_data"
    },
    {
     "name": "stdout",
     "output_type": "stream",
     "text": [
      "+-------+--------------------+-------------+\n",
      "|MovieID|               Title|       Genres|\n",
      "+-------+--------------------+-------------+\n",
      "|   3845|And God Created W...|Drama|Romance|\n",
      "+-------+--------------------+-------------+\n",
      "\n"
     ]
    },
    {
     "data": {
      "text/markdown": [
       "**As we can see, the movie has its assigned genre, which gives us the green light to continue with our analysis**"
      ],
      "text/plain": [
       "<IPython.core.display.Markdown object>"
      ]
     },
     "metadata": {},
     "output_type": "display_data"
    }
   ],
   "source": [
    "#Identify if there are null values in all of our datasets \"dfratings\" \"dfmovies\" \"dfusers\"\n",
    "display(Markdown(\"**Pre-check before EDA**\"))\n",
    "print(\"Ratings Dataframe\") #\"dfratings\"\n",
    "dfratings.select([count(when(col(column).isNull(), column)).alias(column) for column in [\"UserID\",\"MovieID\",\"Rating\",\"Timestamp\"]]).show()\n",
    "print(\"Movies Dataframe\") #dfmovies\"\n",
    "dfmovies.select([count(when(col(column).isNull(), column)).alias(column) for column in [\"MovieID\",\"Title\",\"Genres\"]]).show()\n",
    "print(\"Users Dataframe\") #\"dfusers\"\n",
    "dfusers.select([count(when(col(column).isNull(), column)).alias(column) for column in [\"UserID\",\"Gender\",\"Age\",\"Occupation\",\"Zip-code\"]]).show()\n",
    "display(Markdown(\"**As we can see in our Movies Dataframe, there is only one movie which doesnt have assigned genres. It is therefore that we will identify that MovieID so we can change the null for its corresponding genre.**\"))\n",
    "dfmovies.filter(\"Genres is null\").show()\n",
    "display(Markdown(\"**Movie 3845 labeled as 'And God Created Woman' is categorised as a 'Drama | Romance' genre. We will substitute this categorisation from the previous one.**\"))\n",
    "dfmovies = dfmovies.na.fill(\"Drama|Romance\")\n",
    "dfmovies.filter(dfmovies.MovieID==3845).show()\n",
    "display(Markdown(\"**As we can see, the movie has its assigned genre, which gives us the green light to continue with our analysis**\"))"
   ]
  },
  {
   "cell_type": "markdown",
   "metadata": {},
   "source": [
    "### (D-2) Time related column (splitting \"timestamp\" from \"dfratings\")"
   ]
  },
  {
   "cell_type": "code",
   "execution_count": 139,
   "metadata": {},
   "outputs": [
    {
     "name": "stdout",
     "output_type": "stream",
     "text": [
      "Summary of columns within 'dfratings' Year, Month and Day:\n",
      "+-------+-------------------+------------------+-----------------+\n",
      "|summary|               Year|             Month|              Day|\n",
      "+-------+-------------------+------------------+-----------------+\n",
      "|  count|            1000209|           1000209|          1000209|\n",
      "|   mean| 2000.1262036234427| 8.713123957092968|15.42191481980266|\n",
      "| stddev|0.42242419513457724|2.7162044032711234|8.882599414656145|\n",
      "|    min|               2000|                01|               01|\n",
      "|    25%|             2000.0|               7.0|              7.0|\n",
      "|    50%|             2000.0|               9.0|             17.0|\n",
      "|    75%|             2000.0|              11.0|             22.0|\n",
      "|    max|               2003|                12|               31|\n",
      "+-------+-------------------+------------------+-----------------+\n",
      "\n",
      "Different elements in the time realted column\n",
      "+----+-----+---+\n",
      "|Year|Month|Day|\n",
      "+----+-----+---+\n",
      "|   4|   12| 31|\n",
      "+----+-----+---+\n",
      "\n",
      "Most and least frequent occurrences split into Months, Days and Years:\n"
     ]
    },
    {
     "data": {
      "text/markdown": [
       "\n",
       "| leastfrequentmonth | mostfrequentmonth | leastfrequentday | mostfrequentday | leastfrequentyear | mostfrequentyear |\n",
       "|----|----|----|----|----|----|\n",
       "| 03 (8454 occurrences) | 11 (295161 occurrences) | 31 (16398 occurrences) | 20 (79085 occurrences) | 2003 (3348 occurrences) | 2000 (904721 occurrences) |\n"
      ],
      "text/plain": [
       "<IPython.core.display.Markdown object>"
      ]
     },
     "metadata": {},
     "output_type": "display_data"
    }
   ],
   "source": [
    "dfratings_analysis = dfratings\\\n",
    "                            .withColumn(\"Date\", to_date(\"Timestamp\"))\\\n",
    "                            .select(\"Date\",\"Timestamp\")\n",
    "\n",
    "print (\"Summary of the 'Timestamp' column within 'dfratings' - segmented in three different categories Year, Month and Day:\")\n",
    "dfratings_analysis = dfratings_analysis\\\n",
    "                                    .withColumn(\"Year\",split(dfratings_analysis[\"Date\"], \"-\").getItem(0))\\\n",
    "                                    .withColumn(\"Month\",split(dfratings_analysis[\"Date\"], \"-\").getItem(1))\\\n",
    "                                    .withColumn(\"Day\",split(dfratings_analysis[\"Date\"], \"-\").getItem(2))\\\n",
    "                                    .select(\"Year\",\"Month\",\"Day\")\n",
    "dfratings_analysis.summary().show()\n",
    "\n",
    "print (\"Different elements in the time realted column\")\n",
    "dfratings_analysis\\\n",
    "                .select([countDistinct(column).alias(column) for column in [\"Year\",\"Month\",\"Day\"]])\\\n",
    "                .show()\n",
    "\n",
    "print (\"Most and least frequent occurrences split into Months, Days and Years:\")\n",
    "frequentmonth = dfratings_analysis.groupBy(\"Month\").agg(count(lit(1)).alias(\"Total\"))\n",
    "frequentday = dfratings_analysis.groupBy(\"Day\").agg(count(lit(1)).alias(\"Total\"))\n",
    "frequentyear = dfratings_analysis.groupBy(\"Year\").agg(count(lit(1)).alias(\"Total\"))\n",
    "\n",
    "mostfrequentmonth = frequentmonth.orderBy(col(\"Total\").desc()).first()\n",
    "leastfrequentmonth = frequentmonth.orderBy(col(\"Total\").asc()).first()\n",
    "mostfrequentday = frequentday.orderBy(col(\"Total\").desc()).first()\n",
    "leastfrequentday = frequentday.orderBy(col(\"Total\").asc()).first()\n",
    "mostfrequentyear = frequentyear.orderBy(col(\"Total\").desc()).first()\n",
    "leastfrequentyear = frequentyear.orderBy(col(\"Total\").asc()).first()\n",
    "\n",
    "display(Markdown(\"\"\"\n",
    "| %s | %s | %s | %s | %s | %s |\n",
    "|----|----|----|----|----|----|\n",
    "| %s | %s | %s | %s | %s | %s |\n",
    "\"\"\" % (\"leastfrequentmonth\", \"mostfrequentmonth\", \"leastfrequentday\", \"mostfrequentday\", \"leastfrequentyear\", \"mostfrequentyear\", \\\n",
    "       \"%s (%d occurrences)\" % (leastfrequentmonth[\"Month\"], leastfrequentmonth[\"Total\"]), \\\n",
    "       \"%s (%d occurrences)\" % (mostfrequentmonth[\"Month\"], mostfrequentmonth[\"Total\"]), \\\n",
    "       \"%s (%d occurrences)\" % (leastfrequentday[\"Day\"], leastfrequentday[\"Total\"]), \\\n",
    "       \"%s (%d occurrences)\" % (mostfrequentday[\"Day\"], mostfrequentday[\"Total\"]), \\\n",
    "       \"%s (%d occurrences)\" % (leastfrequentyear[\"Year\"], leastfrequentyear[\"Total\"]), \\\n",
    "       \"%s (%d occurrences)\" % (mostfrequentyear[\"Year\"], mostfrequentyear[\"Total\"]))))"
   ]
  },
  {
   "cell_type": "markdown",
   "metadata": {},
   "source": [
    "**It was expected that the least frequent year was 2003. This is due to the lack of data in 2003 (only from January 2003 until March 2003 - We will further see it in our analysis below).**"
   ]
  },
  {
   "cell_type": "markdown",
   "metadata": {},
   "source": [
    "### (D-3) Basic profiling for the rest of elements in \"dfratings\""
   ]
  },
  {
   "cell_type": "code",
   "execution_count": 149,
   "metadata": {},
   "outputs": [
    {
     "name": "stdout",
     "output_type": "stream",
     "text": [
      "Summary of the rest of columns in dfratings:\n",
      "+-------+------------------+------------------+-----------------+\n",
      "|summary|            UserID|           MovieID|           Rating|\n",
      "+-------+------------------+------------------+-----------------+\n",
      "|  count|           1000209|           1000209|          1000209|\n",
      "|   mean| 3024.512347919285|1865.5398981612843|3.581564453029317|\n",
      "| stddev|1728.4126948999121| 1096.040689457259|1.117101845373239|\n",
      "|    min|                 1|                 1|                1|\n",
      "|    25%|              1506|              1030|                3|\n",
      "|    50%|              3069|              1835|                4|\n",
      "|    75%|              4476|              2770|                4|\n",
      "|    max|              6040|              3952|                5|\n",
      "+-------+------------------+------------------+-----------------+\n",
      "\n",
      "Distinct 'UserID's' Movies and Ratings:\n",
      "+------+-------+------+\n",
      "|UserID|MovieID|Rating|\n",
      "+------+-------+------+\n",
      "|  6040|   3706|     5|\n",
      "+------+-------+------+\n",
      "\n",
      "Most and least frequent occurrences in UserID, MovieID and Ratings:\n"
     ]
    },
    {
     "data": {
      "text/markdown": [
       "\n",
       "| leastfrequentuser | mostfrequentuser | leastfrequentmovie | mostfrequentmovie | leastfrequentrating | mostfrequentrating |\n",
       "|----|----|----|----|----|----|\n",
       "| 2488 (20 occurrences) | 4169 (2314 occurrences) | 2235 (1 occurrences) | 2858 (3428 occurrences) | 1 (56174 occurrences) | 4 (348971 occurrences) |\n"
      ],
      "text/plain": [
       "<IPython.core.display.Markdown object>"
      ]
     },
     "metadata": {},
     "output_type": "display_data"
    },
    {
     "name": "stdout",
     "output_type": "stream",
     "text": [
      "Least Favourite movie is:\n",
      "+-------+--------------------+---------+\n",
      "|MovieID|               Title|   Genres|\n",
      "+-------+--------------------+---------+\n",
      "|   2235|One Man's Hero (1...|Drama|War|\n",
      "+-------+--------------------+---------+\n",
      "\n"
     ]
    }
   ],
   "source": [
    "print(\"Summary of the rest of columns in dfratings:\")\n",
    "dfratings\\\n",
    "        .select(\"UserID\",\"MovieID\", \"Rating\")\\\n",
    "        .summary()\\\n",
    "        .show()\n",
    "\n",
    "print(\"Distinct 'UserID's' Movies and Ratings:\")\n",
    "dfratings\\\n",
    "        .select([countDistinct(column).alias(column) for column in [\"UserID\",\"MovieID\", \"Rating\"]])\\\n",
    "        .show()\n",
    "\n",
    "print (\"Most and least frequent occurrences in UserID, MovieID and Ratings:\")\n",
    "frequentuser = dfratings.groupBy(\"UserID\").agg(count(lit(1)).alias(\"Total\"))\n",
    "frequentmovie = dfratings.groupBy(\"MovieID\").agg(count(lit(1)).alias(\"Total\"))\n",
    "frequentrating = dfratings.groupBy(\"Rating\").agg(count(lit(1)).alias(\"Total\"))\n",
    "\n",
    "mostfrequentuser = frequentuser.orderBy(col(\"Total\").desc()).first()\n",
    "leastfrequentuser = frequentuser.orderBy(col(\"Total\").asc()).first()\n",
    "mostfrequentmovie = frequentmovie.orderBy(col(\"Total\").desc()).first()\n",
    "leastfrequentmovie = frequentmovie.orderBy(col(\"Total\").asc()).first()\n",
    "mostfrequentrating = frequentrating.orderBy(col(\"Total\").desc()).first()\n",
    "leastfrequentrating = frequentrating.orderBy(col(\"Total\").asc()).first()\n",
    "\n",
    "display(Markdown(\"\"\"\n",
    "| %s | %s | %s | %s | %s | %s |\n",
    "|----|----|----|----|----|----|\n",
    "| %s | %s | %s | %s | %s | %s |\n",
    "\"\"\" % (\"leastfrequentuser\", \"mostfrequentuser\", \"leastfrequentmovie\", \"mostfrequentmovie\", \"leastfrequentrating\", \"mostfrequentrating\", \\\n",
    "       \"%s (%d occurrences)\" % (leastfrequentuser[\"UserID\"], leastfrequentuser[\"Total\"]), \\\n",
    "       \"%s (%d occurrences)\" % (mostfrequentuser[\"UserID\"], mostfrequentuser[\"Total\"]), \\\n",
    "       \"%s (%d occurrences)\" % (leastfrequentmovie[\"MovieID\"], leastfrequentmovie[\"Total\"]), \\\n",
    "       \"%s (%d occurrences)\" % (mostfrequentmovie[\"MovieID\"], mostfrequentmovie[\"Total\"]), \\\n",
    "       \"%s (%d occurrences)\" % (leastfrequentrating[\"Rating\"], leastfrequentrating[\"Total\"]), \\\n",
    "       \"%s (%d occurrences)\" % (mostfrequentrating[\"Rating\"], mostfrequentrating[\"Total\"]))))\n",
    "\n",
    "print(\"Least Favourite movie is:\") \n",
    "dfmovies.filter(\"MovieID == 2235\").show()"
   ]
  },
  {
   "cell_type": "markdown",
   "metadata": {},
   "source": [
    "**Small note to make: Surprisingly, there are 3883 movies in total (according to \"dfmovies\") and Users have watched 3706. Meaning that there are still 177 movies that haven't been reviewed yet by any of the users.**\n",
    "\n",
    "**The least frequent user has watched 20 movies and the most active one has watched 2,314 movies**\n",
    "\n",
    "**The most famous movie is \"American Beauty\" with 3,428 viewers and the least was \"One Man's Hero\" with 1 viewer**"
   ]
  },
  {
   "cell_type": "markdown",
   "metadata": {},
   "source": [
    "### (D-3) Basic profiling join of \"dfratings\" and \"dfmovies\""
   ]
  },
  {
   "cell_type": "code",
   "execution_count": 164,
   "metadata": {},
   "outputs": [
    {
     "name": "stdout",
     "output_type": "stream",
     "text": [
      "Basic Ratings Statistics on different movie genre categories:\n",
      "+-----------+----------+---------+---------+---------+------------+\n",
      "|     Genres|MovieCount|AvgRating|MinRating|MaxRating|StdDevRating|\n",
      "+-----------+----------+---------+---------+---------+------------+\n",
      "|     Comedy|    356580|     3.52|        1|        5|        1.12|\n",
      "|      Drama|    354529|     3.77|        1|        5|        1.05|\n",
      "|     Action|    257457|     3.49|        1|        5|        1.13|\n",
      "|   Thriller|    189680|     3.57|        1|        5|        1.11|\n",
      "|     Sci-Fi|    157294|     3.47|        1|        5|        1.16|\n",
      "|    Romance|    147551|     3.61|        1|        5|        1.07|\n",
      "|  Adventure|    133953|     3.48|        1|        5|        1.13|\n",
      "|      Crime|     79541|     3.71|        1|        5|        1.08|\n",
      "|     Horror|     76386|     3.22|        1|        5|        1.23|\n",
      "| Children's|     72186|     3.42|        1|        5|        1.16|\n",
      "|        War|     68527|     3.89|        1|        5|        1.07|\n",
      "|  Animation|     43293|     3.68|        1|        5|        1.08|\n",
      "|    Musical|     41533|     3.67|        1|        5|         1.1|\n",
      "|    Mystery|     40178|     3.67|        1|        5|        1.09|\n",
      "|    Fantasy|     36301|     3.45|        1|        5|        1.13|\n",
      "|    Western|     20683|     3.64|        1|        5|         1.1|\n",
      "|  Film-Noir|     18261|     4.08|        1|        5|        0.93|\n",
      "|Documentary|      7910|     3.93|        1|        5|        1.03|\n",
      "+-----------+----------+---------+---------+---------+------------+\n",
      "\n"
     ]
    }
   ],
   "source": [
    "print(\"Basic Ratings Statistics on different movie genre categories:\")\n",
    "dfratings\\\n",
    "        .join(dfmovies, dfratings.MovieID==dfmovies.MovieID)\\\n",
    "        .select(\"Genres\",\"Rating\")\\\n",
    "        .withColumn(\"Genres\", explode(split(\"Genres\", \"[|]\")))\\\n",
    "        .groupBy(\"Genres\")\\\n",
    "        .agg(count(\"Rating\").alias(\"MovieCount\"),\\\n",
    "             round(avg(\"Rating\"),2).alias(\"AvgRating\"),\\\n",
    "             min(\"Rating\").alias(\"MinRating\"),\\\n",
    "             max(\"Rating\").alias(\"MaxRating\"),\\\n",
    "             round(stddev(\"Rating\"),2).alias(\"StdDevRating\"))\\\n",
    "        .orderBy(desc(\"MovieCount\")).show()"
   ]
  },
  {
   "cell_type": "markdown",
   "metadata": {},
   "source": [
    "**From the chart above we can clearly observe the following: (1) The genre with the highest standard deviation and the lowest average rating is Horror. (2) Drama has a high rating and a low standard deviation compared to the other genres. It might be worth analysing these genres further (More analysis on those below).**"
   ]
  },
  {
   "cell_type": "markdown",
   "metadata": {},
   "source": [
    "# EDA MovieLens Datasets"
   ]
  },
  {
   "cell_type": "markdown",
   "metadata": {},
   "source": [
    "## (1) \"Dfmovies\" Dataframe Analysis"
   ]
  },
  {
   "cell_type": "markdown",
   "metadata": {},
   "source": [
    "### (1.1) Movies Genre Distribution:\n",
    "\n",
    "> *- Which are the most frequent Genres within the platform?*\n",
    "\n",
    "> *- What is the percentage split between the Genres? Is it well compensated? Should there be more different Genres?*\n"
   ]
  },
  {
   "cell_type": "code",
   "execution_count": 170,
   "metadata": {
    "scrolled": false
   },
   "outputs": [
    {
     "name": "stdout",
     "output_type": "stream",
     "text": [
      "Chart 1 - Genre Percentage Split for films within the platform\n",
      "+-----------+-----+----------------------+\n",
      "|     Genres|count|PercentageDistPerGenre|\n",
      "+-----------+-----+----------------------+\n",
      "|      Drama| 1603|                 25.01|\n",
      "|     Comedy| 1200|                 18.72|\n",
      "|     Action|  503|                  7.85|\n",
      "|   Thriller|  492|                  7.68|\n",
      "|    Romance|  472|                  7.36|\n",
      "|     Horror|  343|                  5.35|\n",
      "|  Adventure|  283|                  4.42|\n",
      "|     Sci-Fi|  276|                  4.31|\n",
      "| Children's|  251|                  3.92|\n",
      "|      Crime|  211|                  3.29|\n",
      "|        War|  143|                  2.23|\n",
      "|Documentary|  127|                  1.98|\n",
      "|    Musical|  114|                  1.78|\n",
      "|    Mystery|  106|                  1.65|\n",
      "|  Animation|  105|                  1.64|\n",
      "|    Fantasy|   68|                  1.06|\n",
      "|    Western|   68|                  1.06|\n",
      "|  Film-Noir|   44|                  0.69|\n",
      "+-----------+-----+----------------------+\n",
      "\n"
     ]
    },
    {
     "data": {
      "image/png": "[encoded data removed]",
      "text/plain": [
       "<Figure size 432x288 with 1 Axes>"
      ]
     },
     "metadata": {},
     "output_type": "display_data"
    }
   ],
   "source": [
    "# Genre Distribution (Identify which is the most viewed genre)\n",
    "# 1. We are creating a new object with solely the columns \"genres\" and \"moviecount\". This will enable us to identify the number of movies per genre that exists in the platform.\n",
    "genrepref = dfmovies\\\n",
    "                    .withColumn(\"Genres\", explode(split(\"Genres\",\"[|]\")))\\\n",
    "                    .groupBy(\"Genres\")\\\n",
    "                    .count()\\\n",
    "                    .sort(desc(\"count\"))\n",
    "\n",
    "# 2. This code chunck is for the barplot below. It shows the data that we have stored in \"genrepref\" (genre preference)\n",
    "hello = genrepref.toPandas()\n",
    "sns.set_theme(style=\"whitegrid\")\n",
    "g = sns.barplot(x=\"Genres\", y=\"count\", data=hello)\n",
    "g = (g.set_xticklabels(g.get_xticklabels(), rotation=90))\n",
    "g = plt.xlabel(\"Genres\")\n",
    "g = plt.ylabel(\"Nº of films\")\n",
    "g = plt.title(\"Distribution of films per Genre\")\n",
    "plt.savefig(\"test.svg\", format=\"svg\")\n",
    "\n",
    "# 3. This section returns the data in \"genrepref\" and computes the percentage split for each genre\n",
    "print(\"Chart 1 - Genre Percentage Split for films within the platform\")\n",
    "genrepref\\\n",
    "        .withColumn(\"PercentageDistPerGenre\", round((col(\"count\")/sum(\"count\").over(Window.partitionBy()))*100,2))\\\n",
    "        .show()"
   ]
  },
  {
   "cell_type": "markdown",
   "metadata": {},
   "source": [
    "**Following the data shown in chart 1, Drama and Comedy holds over 44% out of all the films in the platform, clearly representing a dominance in the platform. It would be interesting to analyse the distribution of ratings in the different genres.**"
   ]
  },
  {
   "cell_type": "markdown",
   "metadata": {},
   "source": [
    "### (1.2) Genre split of the top 10 movies from the platform (Popular movies genre analysis):\n",
    "\n",
    "> *- Which are the top 10 most viewed movies within the platform?*\n",
    "\n",
    "> *- Is there a specific genre pattern in the top 10 movies? Is there a specific Genre which is highly viewed?*\n"
   ]
  },
  {
   "cell_type": "code",
   "execution_count": 21,
   "metadata": {},
   "outputs": [
    {
     "name": "stdout",
     "output_type": "stream",
     "text": [
      "Chart 2 - Top 10 most viewed movies (Genre classification)\n",
      "+---------+----------------------+\n",
      "|   Genres|Top10RatedMoviesGenres|\n",
      "+---------+----------------------+\n",
      "|   Action|                     7|\n",
      "|   Sci-Fi|                     7|\n",
      "|Adventure|                     4|\n",
      "|    Drama|                     4|\n",
      "|      War|                     3|\n",
      "| Thriller|                     3|\n",
      "|   Comedy|                     2|\n",
      "|  Fantasy|                     1|\n",
      "|  Romance|                     1|\n",
      "+---------+----------------------+\n",
      "\n",
      "Chart 3 - Top 10 most viewed movies (2000-2003)\n",
      "+--------------------+-------+---------------------+\n",
      "|               Title|MovieID|Top10RatedMoviesViews|\n",
      "+--------------------+-------+---------------------+\n",
      "|American Beauty (...|   2858|                 3428|\n",
      "|Star Wars: Episod...|    260|                 2991|\n",
      "|Star Wars: Episod...|   1196|                 2990|\n",
      "|Star Wars: Episod...|   1210|                 2883|\n",
      "|Jurassic Park (1993)|    480|                 2672|\n",
      "|Saving Private Ry...|   2028|                 2653|\n",
      "|Terminator 2: Jud...|    589|                 2649|\n",
      "|  Matrix, The (1999)|   2571|                 2590|\n",
      "|Back to the Futur...|   1270|                 2583|\n",
      "|Silence of the La...|    593|                 2578|\n",
      "+--------------------+-------+---------------------+\n",
      "\n"
     ]
    }
   ],
   "source": [
    "# 1. We create an object with all the necessary data for the different charts which we will execute below.\n",
    "top10analysis = dfratings\\\n",
    "                            .groupBy(\"MovieID\")\\\n",
    "                            .count()\\\n",
    "                            .join(dfmovies, dfratings.MovieID==dfmovies.MovieID)\\\n",
    "                            .sort(desc(\"count\"))\\\n",
    "                            .drop(dfmovies.MovieID)\\\n",
    "                            .limit(10)\\\n",
    "                            .withColumn(\"Genres\", explode(split(\"Genres\", \"[|]\")))\n",
    "\n",
    "# 2. We use the data to perform the Top 10 Movies Genre Analysis Inspection\n",
    "print(\"Chart 2 - Top 10 most viewed movies (Genre classification)\")\n",
    "top10analysis_1 = top10analysis\\\n",
    "                                .groupBy(\"Genres\")\\\n",
    "                                .count()\\\n",
    "                                .sort(desc(\"count\"))\\\n",
    "                                .withColumnRenamed(\"count\",\"Top10RatedMoviesGenres\")\\\n",
    "                                .show()\n",
    "top10analysis_1\n",
    "\n",
    "# 3. We use the data to perform the Top 10 most viewed movies from 2000 until 2003\n",
    "print(\"Chart 3 - Top 10 most viewed movies (2000-2003)\")\n",
    "top10analysis_2 = top10analysis\\\n",
    "                                .select(\"Title\",\"MovieID\",\"count\")\\\n",
    "                                .distinct()\\\n",
    "                                .withColumnRenamed(\"count\",\"Top10RatedMoviesViews\")\\\n",
    "                                .show()\n",
    "top10analysis_2"
   ]
  },
  {
   "cell_type": "markdown",
   "metadata": {},
   "source": [
    "**From the data in chart 2, we can clearly state that Action, Sci-Fi, Adventure and Drama are some of the most popular Genres for users within the platform.**\n",
    "\n",
    "**This completely aligns with our insights from section \"(1.1) Movies Genre Distribution\", clearly reaffirming their popularity compared to other movie genres which don't appear in chart 2.**\n",
    "\n",
    "**Although, this insight is evident, I am intrigued in pursuing further analysis on average movie ratings on different genres. Maybe, this will help us to identify which genre we have to reinforce in order to increase genre variety and increasing the likelyhood of user retention.**"
   ]
  },
  {
   "cell_type": "markdown",
   "metadata": {},
   "source": [
    "------"
   ]
  },
  {
   "cell_type": "markdown",
   "metadata": {},
   "source": [
    "## (2) \"Dfratings\" Dataframe Analysis "
   ]
  },
  {
   "cell_type": "markdown",
   "metadata": {},
   "source": [
    "### (2.1) Average Ratings Distribution for the Top 10 Genres with the most movies:\n",
    "\n",
    "> *- Which genres has the best average rating score? How is the distribution of each genre? Is the dispersion higher in different Genre and which one is the most stable?*"
   ]
  },
  {
   "cell_type": "code",
   "execution_count": 176,
   "metadata": {},
   "outputs": [
    {
     "name": "stdout",
     "output_type": "stream",
     "text": [
      "Chart 4 - Summary Statistics of each Genre Category\n",
      "+----+------------+---------+---------+----------+---------+---------+---------+---------+---------+\n",
      "|    | Genres     |   count |    mean |      std |     min |     25% |     50% |     75% |     max |\n",
      "+====+============+=========+=========+==========+=========+=========+=========+=========+=========+\n",
      "|  7 | Drama      |    1493 | 3.41533 | 0.610467 | 1       | 3.1     | 3.5     | 3.84127 | 5       |\n",
      "+----+------------+---------+---------+----------+---------+---------+---------+---------+---------+\n",
      "|  4 | Comedy     |    1163 | 3.15992 | 0.65199  | 1       | 2.73071 | 3.20202 | 3.66667 | 5       |\n",
      "+----+------------+---------+---------+----------+---------+---------+---------+---------+---------+\n",
      "|  0 | Action     |     495 | 3.0983  | 0.65157  | 1.28571 | 2.6538  | 3.15108 | 3.5635  | 4.6087  |\n",
      "+----+------------+---------+---------+----------+---------+---------+---------+---------+---------+\n",
      "| 15 | Thriller   |     485 | 3.22594 | 0.62408  | 1       | 2.78125 | 3.26876 | 3.67103 | 4.52055 |\n",
      "+----+------------+---------+---------+----------+---------+---------+---------+---------+---------+\n",
      "| 13 | Romance    |     460 | 3.33914 | 0.530114 | 1       | 3       | 3.3879  | 3.74148 | 4.5     |\n",
      "+----+------------+---------+---------+----------+---------+---------+---------+---------+---------+\n",
      "| 10 | Horror     |     339 | 2.72705 | 0.666278 | 1       | 2.23802 | 2.7451  | 3.18146 | 5       |\n",
      "+----+------------+---------+---------+----------+---------+---------+---------+---------+---------+\n",
      "|  1 | Adventure  |     281 | 3.09966 | 0.67649  | 1       | 2.65909 | 3.19863 | 3.57143 | 5       |\n",
      "+----+------------+---------+---------+----------+---------+---------+---------+---------+---------+\n",
      "| 14 | Sci-Fi     |     274 | 3.07347 | 0.657751 | 1.05882 | 2.61607 | 3.16525 | 3.54524 | 4.45369 |\n",
      "+----+------------+---------+---------+----------+---------+---------+---------+---------+---------+\n",
      "|  3 | Children's |     250 | 3.00633 | 0.637329 | 1       | 2.60497 | 3.08206 | 3.4922  | 4.24796 |\n",
      "+----+------------+---------+---------+----------+---------+---------+---------+---------+---------+\n",
      "|  5 | Crime      |     201 | 3.38513 | 0.576922 | 1.71429 | 3       | 3.38889 | 3.81338 | 5       |\n",
      "+----+------------+---------+---------+----------+---------+---------+---------+---------+---------+\n",
      "\n"
     ]
    },
    {
     "data": {
      "image/png": "[encoded data removed]",
      "text/plain": [
       "<Figure size 432x288 with 1 Axes>"
      ]
     },
     "metadata": {},
     "output_type": "display_data"
    }
   ],
   "source": [
    "# Ratings Analysis\n",
    "# This data will be necessary to properly execute the averages depending on the \"genres_unique\" values. Also, we need this for the chart above which we used pandas describe statistics.\n",
    "ratings = dfratings\\\n",
    "                    .join(dfmovies, dfratings.MovieID==dfmovies.MovieID)\\\n",
    "                    .drop(dfratings.MovieID)\\\n",
    "                    .select(\"MovieID\",\"Rating\",\"Genres\")\\\n",
    "                    .withColumn(\"Genres\", explode(split(\"Genres\",\"[|]\")))\\\n",
    "                    .groupBy(\"MovieID\",\"Genres\").agg(avg(\"Rating\"))\\\n",
    "                    .withColumnRenamed(\"avg(Rating)\",\"AvgRatings\")\\\n",
    "                    .toPandas()\n",
    "\n",
    "# This is necessary to create \"genres_unique\".\n",
    "ratings_2 = dfratings\\\n",
    "                    .join(dfmovies, dfratings.MovieID==dfmovies.MovieID)\\\n",
    "                    .select(\"Rating\",\"Genres\")\\\n",
    "                    .withColumn(\"Genres\", explode(split(\"Genres\",\"[|]\")))\n",
    "\n",
    "#This will be used for the iterative forloop to plot the different distributions. Instead of hardcoding a list of all possible genres, I found a way of extracting all the distinct genres and insert them into a list automatically.\n",
    "genres_unique = ratings_2\\\n",
    "                        .select(\"Genres\")\\\n",
    "                        .groupBy(\"Genres\")\\\n",
    "                        .count()\\\n",
    "                        .sort(desc(\"count\"))\\\n",
    "                        .select(\"Genres\")\\\n",
    "                        .limit(10)\\\n",
    "                        .rdd.flatMap(list)\\\n",
    "                        .collect()\n",
    "\n",
    "#This section creates the chart below by using the data from the pandas dataframe.\n",
    "print(\"Chart 4 - Summary Statistics of each Genre Category\")\n",
    "summary = ratings.groupby(\"Genres\")[\"AvgRatings\"].describe().reset_index()\n",
    "summary = summary.sort_values(by=\"count\",ascending=False)\n",
    "print(summary.iloc[0:10,:].to_markdown(tablefmt=\"grid\"))\n",
    "\n",
    "\n",
    "#This section creates the graph showing the different average ratings distributions per genre.\n",
    "for i in genres_unique:\n",
    "    subset = ratings[ratings[\"Genres\"]==i]\n",
    "    sns.distplot(subset[\"AvgRatings\"], hist = False, kde = True, kde_kws = {\"linewidth\":3, \"linestyle\":\"solid\"},label = i)\n",
    "    \n",
    "plt.legend(bbox_to_anchor=(1.1, 0.8), loc='upper left', prop={'size': 8}, title = 'Genres')\n",
    "plt.axvline(x=3.583,linewidth=3, color='black')\n",
    "plt.title('Density Plot With Top 10 Genres Within The Platform')\n",
    "plt.xlabel('Average Ratings')\n",
    "plt.ylabel('Non Cumulative Density')\n",
    "plt.savefig(\"test1.svg\", format=\"svg\")\n",
    "print(\"\")"
   ]
  },
  {
   "cell_type": "markdown",
   "metadata": {},
   "source": [
    "**As we can observe in the graph above, the genre with best overall ratings which we can absolutely confirm is Drama. This genre has the highest ratings compared to the other top ten genres with most movies. Drama has the best overall average ratings, not only because it has a higher average rating than the other top ten genres with most movies, but also because it is the only genre that also has the highest number of movies within the platform. Drama is highly stable Genre.**\n",
    "\n",
    "**Conversely, Horror it is seen to be highly dispersed compared to other genres (Amplitude of gaussian distribution is widder than any other popular genre). This means that this Genre is highly unstable as there is a high variability in their ratings. It could be suggested to the platform to upload high quality horror movies, in order to decrease variability and increase average horror movies ratings.**"
   ]
  },
  {
   "cell_type": "markdown",
   "metadata": {},
   "source": [
    "### (2.2) Average Ratings Trend Along the Years for the Top 10 Genres with the most movies:"
   ]
  },
  {
   "cell_type": "markdown",
   "metadata": {},
   "source": [
    "> *- How have the average ratings been fluctuating along the years? Are they reasonably constant or have some of them peaked along these three years?*"
   ]
  },
  {
   "cell_type": "code",
   "execution_count": 167,
   "metadata": {},
   "outputs": [
    {
     "name": "stdout",
     "output_type": "stream",
     "text": [
      "Chart 5 - Average ratings per genre category (2000-2003)\n",
      "+-----------+----+----+----+----+\n",
      "|     Genres|2000|2001|2002|2003|\n",
      "+-----------+----+----+----+----+\n",
      "|      Crime|3.73|3.62|3.53|3.75|\n",
      "|    Romance|3.62|3.51| 3.5|3.57|\n",
      "|   Thriller| 3.6|3.47|3.41|3.43|\n",
      "|  Adventure|3.49|3.34|3.29|3.39|\n",
      "|      Drama|3.78| 3.7|3.65|3.69|\n",
      "| Children's|3.44|3.34|3.26|3.23|\n",
      "|        War|3.91|3.79|3.73|3.94|\n",
      "|Documentary|3.97|3.93|3.88| 3.8|\n",
      "|    Fantasy|3.47|3.34|3.27|3.36|\n",
      "|    Mystery| 3.7|3.63|3.61|3.62|\n",
      "|    Musical|3.68|3.62|3.63|3.63|\n",
      "|  Animation| 3.7|3.53|3.56|3.42|\n",
      "|  Film-Noir|4.09|4.03|3.97|4.28|\n",
      "|     Horror|3.24|3.09|3.08|2.92|\n",
      "|    Western|3.63|3.61|3.59|3.55|\n",
      "|     Comedy|3.53|3.43|3.37|3.41|\n",
      "|     Action|3.51|3.35|3.31|3.37|\n",
      "|     Sci-Fi|3.49|3.33|3.28|3.17|\n",
      "+-----------+----+----+----+----+\n",
      "\n",
      "\n"
     ]
    },
    {
     "data": {
      "image/png": "[encoded data removed]",
      "text/plain": [
       "<Figure size 432x288 with 1 Axes>"
      ]
     },
     "metadata": {},
     "output_type": "display_data"
    }
   ],
   "source": [
    "# Ratings Analysis (Overall Trend With Timespan)\n",
    "# I created this object to perform the chart in \"overall_avg_ratings_table\". To create this table we need all the ratings with their assigned genres. By doing this we are obtaining all the possible ratings categorised by genre.\n",
    "overall_avg_ratings_2 = dfratings\\\n",
    "                                .join(dfmovies, dfratings.MovieID==dfmovies.MovieID)\\\n",
    "                                .select(\"Rating\",\"Genres\",\"Timestamp\")\n",
    "\n",
    "# In this I am using the data above to create a pandas dataframe to create a visual representation which will be more readable for investors.\n",
    "overall_avg_ratings_graph = overall_avg_ratings_2\\\n",
    "                                    .withColumn(\"Year\",split(overall_avg_ratings_2[\"Timestamp\"], \"-\").getItem(0))\\\n",
    "                                    .withColumn(\"Month\",split(overall_avg_ratings_2[\"Timestamp\"], \"-\").getItem(1))\\\n",
    "                                    .select(\"Year\",\"Month\",\"Rating\",\"Genres\")\\\n",
    "                                    .withColumn(\"Genres\", explode(split(\"Genres\",\"[|]\")))\\\n",
    "                                    .groupBy(\"Year\",\"Month\",\"Genres\")\\\n",
    "                                    .agg(\n",
    "                                        avg(col(\"Rating\")).alias(\"AverageRatings\"))\\\n",
    "                                    .sort(\"Year\",\"Month\")\\\n",
    "                                    .toPandas()\n",
    "\n",
    "# I am using the same object above to create the chart below, which is the values from the visuals below\n",
    "print(\"Chart 5 - Average ratings per genre category (2000-2003)\")\n",
    "overall_avg_ratings_table = overall_avg_ratings_2\\\n",
    "                                                .withColumn(\"Year\",split(overall_avg_ratings_2[\"Timestamp\"], \"-\").getItem(0))\\\n",
    "                                                .withColumn(\"Month\",split(overall_avg_ratings_2[\"Timestamp\"], \"-\").getItem(1))\\\n",
    "                                                .select(\"Year\",\"Month\",\"Rating\",\"Genres\")\\\n",
    "                                                .withColumn(\"Genres\", explode(split(\"Genres\",\"[|]\")))\\\n",
    "                                                .groupBy(\"Year\",\"Month\",\"Genres\")\\\n",
    "                                                .agg(\n",
    "                                                    avg(col(\"Rating\")).alias(\"AverageRatings\"))\\\n",
    "                                                .sort(\"Year\",\"Month\")\\\n",
    "                                                .select(\"Year\",\"Genres\",\"AverageRatings\")\\\n",
    "                                                .groupby(\"Genres\")\\\n",
    "                                                .pivot(\"Year\")\\\n",
    "                                                .avg(\"AverageRatings\").alias(\"AverageRatings\")\n",
    "\n",
    "overall_avg_ratings_table.select(\"Genres\",round(\"2000\",2).alias(\"2000\"),round(\"2001\",2).alias(\"2001\"),round(\"2002\",2).alias(\"2002\"),round(\"2003\",2).alias(\"2003\")).show()\n",
    "\n",
    "# Using the same methodology above in section (2.1), I am creating a graph based on the data shown in chart 5.\n",
    "for i in genres_unique:\n",
    "    subset = overall_avg_ratings_graph[overall_avg_ratings_graph[\"Genres\"]==i]\n",
    "    sns.lineplot(data=subset,y=\"AverageRatings\",x=\"Year\",label = i,linewidth = 3)\n",
    "    \n",
    "plt.legend(bbox_to_anchor=(1.1, 0.8), loc='upper left', prop={'size': 8}, title = 'Genres')\n",
    "plt.title('Average Ratings Per Genre (2000-2003)')\n",
    "plt.xlabel('Years')\n",
    "plt.ylabel('Average Ratings')\n",
    "plt.savefig(\"test2.svg\", format=\"svg\")\n",
    "print(\"\")"
   ]
  },
  {
   "cell_type": "markdown",
   "metadata": {},
   "source": [
    "**The Overall trend in all genre categories has experienced a downhill trend in their ratings from the past 4 years.**\n",
    "\n",
    "**Following the graph above, we could highlight that genres such as Adventure and Crime, have experienced an increase in their ratings from 2002-2003. Maybe their are gaining traction, however we would need the dates on the releases of films to do a deeper analysis on this section.**\n",
    "\n",
    "**It is worth noticing the enormous decrease in horror movies ratings. Although other genre categories have decreased if we compare 2000 until 2003, they remain fairly stable in their ratings along the years. This hasn't been the case for horror movies and therefore the company should devote some effort in solving this issue.**"
   ]
  },
  {
   "cell_type": "markdown",
   "metadata": {},
   "source": [
    "### (2.3) Analysing users usability of the platform with \"dfratings\""
   ]
  },
  {
   "cell_type": "markdown",
   "metadata": {},
   "source": [
    "> *- How many movies each user watches per year and what is the overal trend along the years? Is the company increasing the users usage of the platform?*"
   ]
  },
  {
   "cell_type": "code",
   "execution_count": 11,
   "metadata": {},
   "outputs": [],
   "source": [
    "# I am creating the base object that will be needed to create charts 6 and 7\n",
    "platformusability = dfratings\\\n",
    "                        .withColumn(\"Date\", to_date(\"Timestamp\"))\\\n",
    "                        .select(\"UserID\",\"MovieID\",\"Rating\",\"Date\")\n",
    "platformusability = platformusability\\\n",
    "                        .withColumn(\"Year\", split(platformusability[\"Date\"], \"-\").getItem(0))\\\n",
    "                        .withColumn(\"Month\", split(platformusability[\"Date\"], \"-\").getItem(1))"
   ]
  },
  {
   "cell_type": "code",
   "execution_count": 88,
   "metadata": {},
   "outputs": [
    {
     "name": "stdout",
     "output_type": "stream",
     "text": [
      "Chart 6 - Descriptive analysis on movie count per year\n",
      "+----+----------+------------------+---------------+-------------------------+\n",
      "|Year|MovieCount|DistinctMovieCount|DistinctUserIDs|AvgMoviesPerUser(PerYear)|\n",
      "+----+----------+------------------+---------------+-------------------------+\n",
      "|2000|    904721|              3678|           6034|                    150.0|\n",
      "|2001|     68094|              3289|           1070|                     64.0|\n",
      "|2002|     24046|              2971|            565|                     43.0|\n",
      "|2003|      3348|              1601|            178|                     19.0|\n",
      "+----+----------+------------------+---------------+-------------------------+\n",
      "\n",
      "Chart 7 - Descriptive analysis on movie count per year and month (Checking if there is a seasonal trend)\n",
      "+----+-----+----------+------------------+---------------+--------------------------+\n",
      "|Year|Month|MovieCount|DistinctMovieCount|DistinctUserIDs|AvgMoviesPerUser(PerMonth)|\n",
      "+----+-----+----------+------------------+---------------+--------------------------+\n",
      "|2000|   04|     11394|              2152|             86|                     132.0|\n",
      "|2000|   05|     66553|              2917|            479|                     139.0|\n",
      "|2000|   06|     54741|              2918|            509|                     108.0|\n",
      "|2000|   07|     90307|              3131|            772|                     117.0|\n",
      "|2000|   08|    182697|              3299|           1311|                     139.0|\n",
      "|2000|   09|     52092|              3077|            574|                      91.0|\n",
      "|2000|   10|     42662|              3002|            503|                      85.0|\n",
      "|2000|   11|    290494|              3551|           2355|                     123.0|\n",
      "|2000|   12|    113781|              3337|           1244|                      91.0|\n",
      "|2001|   01|     18040|              2723|            545|                      33.0|\n",
      "|2001|   02|      8136|              2173|            395|                      21.0|\n",
      "|2001|   03|      6000|              2010|            322|                      19.0|\n",
      "|2001|   04|      5254|              1952|            294|                      18.0|\n",
      "|2001|   05|      4936|              1908|            273|                      18.0|\n",
      "|2001|   06|      4960|              1810|            271|                      18.0|\n",
      "|2001|   07|      4787|              1827|            289|                      17.0|\n",
      "|2001|   08|      4456|              1688|            247|                      18.0|\n",
      "|2001|   09|      3071|              1559|            191|                      16.0|\n",
      "|2001|   10|      2198|              1224|            180|                      12.0|\n",
      "|2001|   11|      2760|              1372|            180|                      15.0|\n",
      "|2001|   12|      3496|              1634|            186|                      19.0|\n",
      "|2002|   01|      3214|              1536|            220|                      15.0|\n",
      "|2002|   02|      2496|              1351|            178|                      14.0|\n",
      "|2002|   03|      2454|              1412|            168|                      15.0|\n",
      "|2002|   04|      2842|              1580|            151|                      19.0|\n",
      "|2002|   05|      1899|              1186|            154|                      12.0|\n",
      "|2002|   06|      1645|              1039|            141|                      12.0|\n",
      "|2002|   07|      1899|              1194|            154|                      12.0|\n",
      "|2002|   08|      2117|              1228|            139|                      15.0|\n",
      "|2002|   09|      1288|               947|            111|                      12.0|\n",
      "|2002|   10|      1020|               733|            122|                       8.0|\n",
      "|2002|   11|      1907|              1186|            118|                      16.0|\n",
      "|2002|   12|      1265|               834|            129|                      10.0|\n",
      "|2003|   01|      1852|              1171|            134|                      14.0|\n",
      "|2003|   02|      1496|               984|             99|                      15.0|\n",
      "+----+-----+----------+------------------+---------------+--------------------------+\n",
      "\n"
     ]
    }
   ],
   "source": [
    "print(\"Chart 6 - Descriptive analysis on movie count per year\")\n",
    "platformusability\\\n",
    "            .select(\"Year\",col(\"MovieID\").alias(\"MovieCount\"),col(\"UserID\").alias(\"DifferentUserIDs\"))\\\n",
    "            .groupBy(\"Year\")\\\n",
    "            .agg(\n",
    "                count(\"MovieCount\").alias(\"MovieCount\"),\n",
    "                countDistinct(\"MovieCount\").alias(\"DistinctMovieCount\"),\n",
    "                countDistinct(\"DifferentUserIDs\").alias(\"DistinctUserIDs\"))\\\n",
    "            .withColumn(\"AvgMoviesPerUser(PerYear)\",round(col(\"MovieCount\")/col(\"DistinctUserIDs\")))\\\n",
    "            .sort(\"Year\")\\\n",
    "            .show()\n",
    "\n",
    "print(\"Chart 7 - Descriptive analysis on movie count per year and month (Checking if there is a seasonal trend)\")\n",
    "platformusability\\\n",
    "            .select(\"Year\",\"Month\",col(\"MovieID\").alias(\"MovieCount\"),col(\"UserID\").alias(\"DifferentUserIDs\"))\\\n",
    "            .groupBy(\"Year\",\"Month\")\\\n",
    "            .agg(\n",
    "                count(\"MovieCount\").alias(\"MovieCount\"),\n",
    "                countDistinct(\"MovieCount\").alias(\"DistinctMovieCount\"),\n",
    "                countDistinct(\"DifferentUserIDs\").alias(\"DistinctUserIDs\"))\\\n",
    "            .withColumn(\"AvgMoviesPerUser(PerMonth)\",round(col(\"MovieCount\")/col(\"DistinctUserIDs\")))\\\n",
    "            .sort(\"Year\",\"Month\")\\\n",
    "            .show(50)"
   ]
  },
  {
   "cell_type": "markdown",
   "metadata": {},
   "source": [
    "**As it is pretty evident, something it is happening to the users within the platform. At the very beginning, there was a mayor excitment by the users and the average movies per user was really high. However, at the very beginning of 2001, users started to decrease the amount of movies they watched per year and per month.**\n",
    "\n",
    "**We can say that there is a problem, however more data is needed in order to identify the reasons for the decrease in average movies per user and the number of users using the platform.**\n",
    "\n",
    "> *This decrease could befor numerous reasons (1) there are no more new movies in the platform, causing people to leave. (2) Consumer profiles have changed in the last 3 years. (3) The streaming company is doing something wrong in their infrastructure that is affecting their customers.*"
   ]
  },
  {
   "cell_type": "markdown",
   "metadata": {},
   "source": [
    "---"
   ]
  },
  {
   "cell_type": "markdown",
   "metadata": {},
   "source": [
    "## (3) \"Dfusers\" Dataframe Analysis"
   ]
  },
  {
   "cell_type": "markdown",
   "metadata": {},
   "source": [
    "### (3.1) Identifying different consumer profiles using the platform"
   ]
  },
  {
   "cell_type": "markdown",
   "metadata": {},
   "source": [
    "> *- How many users do we have working, studying or unemployed? Is the split equally distributed or is there an unequal distribution between the different categories?*\n",
    "\n",
    "> *- How is the age distribution between the different occupation categories?*"
   ]
  },
  {
   "cell_type": "code",
   "execution_count": 168,
   "metadata": {},
   "outputs": [
    {
     "name": "stdout",
     "output_type": "stream",
     "text": [
      "Chart 8 - Occupation Categories division in the platform\n",
      "+------------------+----------+---------------+\n",
      "|OccupationCategory|UsersCount|PercentageSplit|\n",
      "+------------------+----------+---------------+\n",
      "|  Actively Working|      4872|           81.0|\n",
      "|          Studying|       954|           16.0|\n",
      "|       Not Working|       214|            4.0|\n",
      "+------------------+----------+---------------+\n",
      "\n",
      "Chart 9 - Age Distribution in the platform\n",
      "+--------+----------+---------------+\n",
      "|     Age|UsersCount|PercentageSplit|\n",
      "+--------+----------+---------------+\n",
      "|   25-34|      2096|           35.0|\n",
      "|   35-44|      1193|           20.0|\n",
      "|   18-24|      1103|           18.0|\n",
      "|   45-49|       550|            9.0|\n",
      "|   50-55|       496|            8.0|\n",
      "|     56+|       380|            6.0|\n",
      "|Under 18|       222|            4.0|\n",
      "+--------+----------+---------------+\n",
      "\n"
     ]
    },
    {
     "data": {
      "image/png": "[encoded data removed]",
      "text/plain": [
       "<Figure size 432x288 with 1 Axes>"
      ]
     },
     "metadata": {},
     "output_type": "display_data"
    }
   ],
   "source": [
    "# This section is used to build the graph below.\n",
    "profiling = dfusers\\\n",
    "                    .withColumn('Occupation_2',\n",
    "                                    when((col('Occupation') == \"unemployed\") | (col('Occupation') == \"retired\"), \"Not Working\")\n",
    "                                    .when((col('Occupation') == \"K-12 student\") | (col('Occupation') == \"college/grad student\"), \"Studying\")\n",
    "                                    .otherwise(\"Actively Working\"))\\\n",
    "                    .groupBy(\"Occupation_2\",\"Age\")\\\n",
    "                    .count()\\\n",
    "                    .sort(\"Age\",\"Occupation_2\")\\\n",
    "                    .toPandas()\n",
    "\n",
    "sns.barplot(x=\"Occupation_2\",y=\"count\",data=profiling,hue=\"Age\")\n",
    "\n",
    "plt.legend(bbox_to_anchor=(1.1, 0.8), loc='upper left', prop={'size': 8}, title = 'Age Ranges')\n",
    "plt.title('Users profile using the platform')\n",
    "plt.xlabel('Categories')\n",
    "plt.ylabel('Number of Users')\n",
    "plt.savefig(\"test3.svg\", format=\"svg\")\n",
    "\n",
    "# I am using \"dfusers\" to create 2 different charts by implementing different techniques. \n",
    "print(\"Chart 8 - Occupation Categories division in the platform\")\n",
    "dfusers\\\n",
    "        .withColumn('OccupationCategory',\n",
    "                        when((col('Occupation') == \"unemployed\") | (col('Occupation') == \"retired\"), \"Not Working\")\n",
    "                        .when((col('Occupation') == \"K-12 student\") | (col('Occupation') == \"college/grad student\"), \"Studying\")\n",
    "                        .otherwise(\"Actively Working\"))\\\n",
    "        .groupBy(\"OccupationCategory\")\\\n",
    "        .count()\\\n",
    "        .withColumnRenamed(\"count\", \"UsersCount\")\\\n",
    "        .withColumn(\"PercentageSplit\", round((col(\"UsersCount\")/sum(\"UsersCount\").over(Window.partitionBy()))*100))\\\n",
    "        .sort(desc(\"PercentageSplit\"))\\\n",
    "        .show()\n",
    "\n",
    "print(\"Chart 9 - Age Distribution in the platform\")\n",
    "dfusers\\\n",
    "        .withColumn('OccupationCategory',\n",
    "                        when((col('Occupation') == \"unemployed\") | (col('Occupation') == \"retired\"), \"Not Working\")\n",
    "                        .when((col('Occupation') == \"K-12 student\") | (col('Occupation') == \"college/grad student\"), \"Studying\")\n",
    "                        .otherwise(\"Actively Working\"))\\\n",
    "        .groupBy(\"Age\")\\\n",
    "        .count()\\\n",
    "        .withColumnRenamed(\"count\", \"UsersCount\")\\\n",
    "        .withColumn(\"PercentageSplit\", round((col(\"UsersCount\")/sum(\"UsersCount\").over(Window.partitionBy()))*100))\\\n",
    "        .sort(desc(\"PercentageSplit\"))\\\n",
    "        .show()"
   ]
  },
  {
   "cell_type": "markdown",
   "metadata": {},
   "source": [
    "**According to the data in chart 9, almost 50% of the platform users are between the ages of 25-44, these individuals are actively working and a small segment are studying (6% from the 50% of users between 25-44).**\n",
    "\n",
    "**Another point which is worth mentioning is the importance of users within the segment 18-24. We shouldn't discourage the 18-24 segment, this segment could be a potential one throughout the years (In order to partly demonstate my point, let's analyse the most frequent users in the platform and check if there are various users in the 18-24 age bracket)**"
   ]
  },
  {
   "cell_type": "markdown",
   "metadata": {},
   "source": [
    "### (3.2) Closer look at the actively working occupation category"
   ]
  },
  {
   "cell_type": "markdown",
   "metadata": {},
   "source": [
    "> *- What is the percentage split of the \"Active workers\" in the occupation category? Which occupation category is highly interested in the platform?*"
   ]
  },
  {
   "cell_type": "code",
   "execution_count": 90,
   "metadata": {},
   "outputs": [
    {
     "name": "stdout",
     "output_type": "stream",
     "text": [
      "Chart 10 - Occupation split in the 'actively working' category\n",
      "+------------------+--------------------+----------+---------------+\n",
      "|OccupationCategory|          Occupation|UsersCount|PercentageSplit|\n",
      "+------------------+--------------------+----------+---------------+\n",
      "|  Actively Working|               other|       711|           15.0|\n",
      "|  Actively Working|executive/managerial|       679|           14.0|\n",
      "|  Actively Working|   academic/educator|       528|           11.0|\n",
      "|  Actively Working| technician/engineer|       502|           10.0|\n",
      "|  Actively Working|          programmer|       388|            8.0|\n",
      "|  Actively Working|     sales/marketing|       302|            6.0|\n",
      "|  Actively Working|              writer|       281|            6.0|\n",
      "|  Actively Working|              artist|       267|            5.0|\n",
      "|  Actively Working|       self-employed|       241|            5.0|\n",
      "|  Actively Working|  doctor/health care|       236|            5.0|\n",
      "|  Actively Working|      clerical/admin|       173|            4.0|\n",
      "|  Actively Working|           scientist|       144|            3.0|\n",
      "|  Actively Working|              lawyer|       129|            3.0|\n",
      "|  Actively Working|    customer service|       112|            2.0|\n",
      "|  Actively Working|           homemaker|        92|            2.0|\n",
      "|  Actively Working| tradesman/craftsman|        70|            1.0|\n",
      "|  Actively Working|              farmer|        17|            0.0|\n",
      "+------------------+--------------------+----------+---------------+\n",
      "\n"
     ]
    }
   ],
   "source": [
    "# Create chart to analyse Active Users - I am making a categorisation that will simplify the data analysis \n",
    "# \"Occupation\" has been segmented into three main categories - (1) Active workers (2) Students (3) Unemployed workers\n",
    "print(\"Chart 10 - Occupation split in the 'actively working' category\")\n",
    "dfusers\\\n",
    "        .withColumn('OccupationCategory',\n",
    "            when((col('Occupation') == \"unemployed\") | (col('Occupation') == \"retired\"), \"Not Working\")\n",
    "            .when((col('Occupation') == \"K-12 student\") | (col('Occupation') == \"college/grad student\"), \"Studying\")\n",
    "            .otherwise(\"Actively Working\"))\\\n",
    "        .select(\"Occupation\",\"OccupationCategory\")\\\n",
    "        .filter(col(\"OccupationCategory\") == \"Actively Working\")\\\n",
    "        .groupBy(\"OccupationCategory\",\"Occupation\")\\\n",
    "        .count()\\\n",
    "        .sort(desc(\"count\"))\\\n",
    "        .withColumnRenamed(\"count\", \"UsersCount\")\\\n",
    "        .withColumn(\"PercentageSplit\", round((col(\"UsersCount\")/sum(\"UsersCount\").over(Window.partitionBy()))*100))\\\n",
    "        .show()"
   ]
  },
  {
   "cell_type": "markdown",
   "metadata": {},
   "source": [
    "**As we can see in chart, those occupations that have more time tend to use the platform the most.**"
   ]
  },
  {
   "cell_type": "markdown",
   "metadata": {},
   "source": [
    "### (3.3) Top 15% users occupation identification"
   ]
  },
  {
   "cell_type": "markdown",
   "metadata": {},
   "source": [
    "> *- Analyse which occupation do our top 15% most frequent users and to which age range do they correspond? Check if students between 18-24 is a good target to focus on for future strategy*"
   ]
  },
  {
   "cell_type": "code",
   "execution_count": 169,
   "metadata": {},
   "outputs": [
    {
     "name": "stdout",
     "output_type": "stream",
     "text": [
      "Chart 11 - Occupation Identification & Age: Top 15% of Users\n",
      "+----+----------------------+-------+--------------+\n",
      "|    | Occupation           | Age   |   UsersCount |\n",
      "+====+======================+=======+==============+\n",
      "|  0 | college/grad student | 18-24 |            8 |\n",
      "+----+----------------------+-------+--------------+\n",
      "|  1 | other                | 25-34 |            7 |\n",
      "+----+----------------------+-------+--------------+\n",
      "|  2 | college/grad student | 25-34 |            5 |\n",
      "+----+----------------------+-------+--------------+\n",
      "|  3 | writer               | 25-34 |            4 |\n",
      "+----+----------------------+-------+--------------+\n",
      "|  4 | executive/managerial | 35-44 |            4 |\n",
      "+----+----------------------+-------+--------------+\n",
      "|  5 | academic/educator    | 25-34 |            4 |\n",
      "+----+----------------------+-------+--------------+\n",
      "|  6 | executive/managerial | 25-34 |            4 |\n",
      "+----+----------------------+-------+--------------+\n",
      "|  7 | technician/engineer  | 25-34 |            4 |\n",
      "+----+----------------------+-------+--------------+\n",
      "|  8 | other                | 18-24 |            3 |\n",
      "+----+----------------------+-------+--------------+\n",
      "|  9 | artist               | 35-44 |            3 |\n",
      "+----+----------------------+-------+--------------+\n",
      "| 10 | other                | 35-44 |            3 |\n",
      "+----+----------------------+-------+--------------+\n",
      "\n"
     ]
    },
    {
     "data": {
      "image/png": "[encoded data removed]",
      "text/plain": [
       "<Figure size 432x288 with 1 Axes>"
      ]
     },
     "metadata": {},
     "output_type": "display_data"
    }
   ],
   "source": [
    "#Top Users (Profile Identification - Top 15% of Users)\n",
    "# I create two objects in this section, the first one I pretended to enhance and extract the top 15% users from the platform.\n",
    "# The second one aggrupates all the occupations and finds the most repeated ones from the top 15% users dataframe.\n",
    "topusers = dfratings\\\n",
    "                    .groupBy(\"UserID\")\\\n",
    "                    .agg(countDistinct(col(\"MovieID\")).alias(\"DifMovieCount\"))\\\n",
    "                    .join(dfusers, dfratings.UserID==dfusers.UserID)\\\n",
    "                    .sort(desc(\"DifMovieCount\"))\\\n",
    "                    .select(dfratings.UserID,\"DifMovieCount\",\"Occupation\",\"Age\")\\\n",
    "                    .limit(90)\n",
    "\n",
    "topusers_2 = topusers\\\n",
    "                    .groupBy(\"Occupation\",\"Age\")\\\n",
    "                    .count()\\\n",
    "                    .withColumnRenamed(\"count\",\"UsersCount\")\\\n",
    "                    .sort(desc(\"UsersCount\"))\\\n",
    "                    .filter(col(\"UsersCount\") > 2)\\\n",
    "                    .toPandas()\n",
    "\n",
    "# Creating chart\n",
    "print(\"Chart 11 - Occupation Identification & Age: Top 15% of Users\")\n",
    "print(topusers_2.to_markdown(tablefmt=\"grid\"))\n",
    "\n",
    "# Creating graph\n",
    "sns.barplot(x=\"Age\",y=\"UsersCount\",data=topusers_2,hue=\"Occupation\")\n",
    "plt.legend(bbox_to_anchor=(1.1, 0.8), loc='upper left', prop={'size': 8}, title = 'Occupation')\n",
    "plt.title('Occupation Identification & Age: Top 15% of Users')\n",
    "plt.xlabel('Years Ranges')\n",
    "plt.ylabel('Number of users')\n",
    "plt.savefig(\"test4.svg\", format=\"svg\")\n",
    "print(\"\")"
   ]
  },
  {
   "cell_type": "markdown",
   "metadata": {},
   "source": [
    "**As it has been represented in chart 11, we can confirm that although 18-24 bracket isn't the highest, it would be a great strategy to focus on them and diversify the risk. Heavily investing on the 25-34 it is a good idea, but introducing strategies to capture young clients it isn't a bad idea. They have more time and they can be a long term user in the future.**"
   ]
  }
 ],
 "metadata": {
  "kernelspec": {
   "display_name": "Python 3",
   "language": "python",
   "name": "python3"
  },
  "language_info": {
   "codemirror_mode": {
    "name": "ipython",
    "version": 3
   },
   "file_extension": ".py",
   "mimetype": "text/x-python",
   "name": "python",
   "nbconvert_exporter": "python",
   "pygments_lexer": "ipython3",
   "version": "3.7.3"
  }
 },
 "nbformat": 4,
 "nbformat_minor": 4
}
